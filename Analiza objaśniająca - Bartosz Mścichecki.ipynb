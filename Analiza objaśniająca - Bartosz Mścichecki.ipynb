{
 "cells": [
  {
   "cell_type": "markdown",
   "metadata": {},
   "source": [
    "# Analiza objaśniająca\n",
    "### Autor: Bartosz Mścichecki\n",
    "\n",
    "Zbiorem danych, który został wykorzystany przy wizualizacji jest zbiór zawierający informacje o katastrofie Titanica\n",
    "\n",
    "Titanic był brytyjskim transatlantykiem. Jego budowa została rozpoczęta w 1909 roku, a oddany do eksploatacji w roku 1912. W nocy z dnia 14 na 15 kwietnia 1912 roku, podczas dziewiczego rejsu, doszło do zderzenia z górą lodową i zatopienia statku.\n",
    "\n",
    "Interesującym aspektem, z punktu widzenia analizy danych, jest informacja na temat przeżycia pasażerów katastrofy. \n",
    "\n",
    "Pierwszym krokiem, przed rozpoczęciem analizy zbioru, jest wczytanie odpowiednich bibliotek"
   ]
  },
  {
   "cell_type": "code",
   "execution_count": 1,
   "metadata": {},
   "outputs": [],
   "source": [
    "import numpy as np\n",
    "import pandas as pd\n",
    "import math\n",
    "import ipywidgets as widgets\n",
    "import matplotlib.pyplot as plt\n",
    "import seaborn as sns\n",
    "from IPython.display import display"
   ]
  },
  {
   "cell_type": "markdown",
   "metadata": {},
   "source": [
    "## Zapoznanie się ze zbiorem "
   ]
  },
  {
   "cell_type": "markdown",
   "metadata": {},
   "source": [
    "W pierwszym kroku należy wczytać zbiór danych"
   ]
  },
  {
   "cell_type": "code",
   "execution_count": 2,
   "metadata": {},
   "outputs": [],
   "source": [
    "dataset = pd.read_csv('Titanic.csv', sep=',')"
   ]
  },
  {
   "cell_type": "markdown",
   "metadata": {},
   "source": [
    "W celu zapoznania się ze zbiorem danych, poniżej zostały przedstawione podstawowe informacje na temat zbioru oraz tabela, która pozwala sprawdzić dane znajdujące się w zbiorze."
   ]
  },
  {
   "cell_type": "code",
   "execution_count": 3,
   "metadata": {
    "scrolled": false
   },
   "outputs": [
    {
     "name": "stdout",
     "output_type": "stream",
     "text": [
      "<class 'pandas.core.frame.DataFrame'>\n",
      "RangeIndex: 891 entries, 0 to 890\n",
      "Data columns (total 12 columns):\n",
      " #   Column       Non-Null Count  Dtype  \n",
      "---  ------       --------------  -----  \n",
      " 0   PassengerId  891 non-null    int64  \n",
      " 1   Survived     891 non-null    int64  \n",
      " 2   Pclass       891 non-null    int64  \n",
      " 3   Name         891 non-null    object \n",
      " 4   Sex          891 non-null    object \n",
      " 5   Age          714 non-null    float64\n",
      " 6   SibSp        891 non-null    int64  \n",
      " 7   Parch        891 non-null    int64  \n",
      " 8   Ticket       891 non-null    object \n",
      " 9   Fare         891 non-null    float64\n",
      " 10  Cabin        204 non-null    object \n",
      " 11  Embarked     889 non-null    object \n",
      "dtypes: float64(2), int64(5), object(5)\n",
      "memory usage: 83.7+ KB\n"
     ]
    }
   ],
   "source": [
    "dataset.info()"
   ]
  },
  {
   "cell_type": "code",
   "execution_count": 4,
   "metadata": {
    "scrolled": true
   },
   "outputs": [],
   "source": [
    "ALL = 'ALL'\n",
    "def unique_sorted_values_plus_ALL(array):\n",
    "    unique = array.unique().tolist()\n",
    "    unique.sort()\n",
    "    unique.insert(0, ALL)\n",
    "    return unique"
   ]
  },
  {
   "cell_type": "code",
   "execution_count": 6,
   "metadata": {},
   "outputs": [
    {
     "data": {
      "application/vnd.jupyter.widget-view+json": {
       "model_id": "14ed41e62b61443b810dcce64447f18f",
       "version_major": 2,
       "version_minor": 0
      },
      "text/plain": [
       "Dropdown(options=('ALL', 0, 1), value='ALL')"
      ]
     },
     "metadata": {},
     "output_type": "display_data"
    },
    {
     "data": {
      "application/vnd.jupyter.widget-view+json": {
       "model_id": "96f7abc07b474b29ac98f7f3cc00b89e",
       "version_major": 2,
       "version_minor": 0
      },
      "text/plain": [
       "Output()"
      ]
     },
     "metadata": {},
     "output_type": "display_data"
    }
   ],
   "source": [
    "dropdown_survived = widgets.Dropdown(options = unique_sorted_values_plus_ALL(dataset.Survived))\n",
    "\n",
    "output_survived = widgets.Output()\n",
    "\n",
    "def dropdown_survived_eventhandler(change):\n",
    "    output_survived.clear_output()\n",
    "    with output_survived:\n",
    "        if(change.new == ALL):\n",
    "            display(dataset)\n",
    "        else:\n",
    "            display(dataset[dataset.Survived == change.new])\n",
    "\n",
    "dropdown_survived.observe(dropdown_survived_eventhandler, names='value')\n",
    "\n",
    "display(dropdown_survived)\n",
    "display(output_survived)"
   ]
  },
  {
   "cell_type": "markdown",
   "metadata": {},
   "source": [
    "Można zauważyć, że zbiór składa się z 891 instacji oraz 12 zmiennych. Zmienne przedstawiają się następująco:\n",
    "* **PassengerId** - identyfikator pasażera,\n",
    "* **Survived** - czy pasażer przeżył: 1 - przeżył, 0 - nie przeżył,\n",
    "* **Pclass** - klasa, którą podróżował pasażer: 1, 2 lub 3,\n",
    "* **Name** - imię i nazwisko pasażera,\n",
    "* **Sex** - płeć pasażera,\n",
    "* **Age** - wiek w latach,\n",
    "* **SibSp** - liczba pasażerów w postaci rodzeństwa lub męża/żony, z którymi pasażer podróżował,\n",
    "* **Parch** - ilość dzieci lub rodziców,\n",
    "* **Ticket** - numer biletu,\n",
    "* **Fare** - cena biletu,\n",
    "* **Cabin** - numer kabiny,\n",
    "* **Embarked** - port w którym wysiadał: C - Cherboug, Q - Queenstown, S - Southampton.\n",
    "\n",
    "## Przygotowanie danych do analizy\n",
    "\n",
    "Po zapoznaniu się ze zbiorem rozpocząłem proces przygotowania zbioru do analizy. Proces ten został podzielony na następujące kroki:\n",
    "* Usunięcie kolumn, które są zbędne z punktu widzenia analizy,\n",
    "* Uzupełnienie brakujących danych,\n",
    "* Sprowadzenie danych w zbiorze do odpowiednich typów.\n",
    "\n",
    "### Usunięcie kolumn zbędnych dla analizy danych\n",
    "\n",
    "Ze zbioru zostały usunięte kolumny **Ticket**, **Cabin**, oraz **Name**. Po zapoznaniu się ze zbiorem i dokładnej analizie doszedłem do wniosku, że dane, które są w nich zawarte, nie wniosą żadnych potrzebnych informacji. Usunięcie wykonałem za pomocą poniższych operacji"
   ]
  },
  {
   "cell_type": "code",
   "execution_count": 7,
   "metadata": {},
   "outputs": [
    {
     "name": "stdout",
     "output_type": "stream",
     "text": [
      "<class 'pandas.core.frame.DataFrame'>\n",
      "RangeIndex: 891 entries, 0 to 890\n",
      "Data columns (total 9 columns):\n",
      " #   Column       Non-Null Count  Dtype  \n",
      "---  ------       --------------  -----  \n",
      " 0   PassengerId  891 non-null    int64  \n",
      " 1   Survived     891 non-null    int64  \n",
      " 2   Pclass       891 non-null    int64  \n",
      " 3   Sex          891 non-null    object \n",
      " 4   Age          714 non-null    float64\n",
      " 5   SibSp        891 non-null    int64  \n",
      " 6   Parch        891 non-null    int64  \n",
      " 7   Fare         891 non-null    float64\n",
      " 8   Embarked     889 non-null    object \n",
      "dtypes: float64(2), int64(5), object(2)\n",
      "memory usage: 62.8+ KB\n"
     ]
    }
   ],
   "source": [
    "dataset = dataset.drop(['Ticket', 'Cabin', 'Name'], axis = 1)\n",
    "dataset.info()"
   ]
  },
  {
   "cell_type": "markdown",
   "metadata": {},
   "source": [
    "### Uzupełnienie brakujących danych\n",
    "\n",
    "Znając informacje na temat zbioru zauważyłem, że występują braki danych w kolumnach **Age** oraz **Embarked**. Aby pozbyć się brakujących danych możemy zastosować dwie drogi:\n",
    "* usunięcie wierszy z brakującymi wartościami,\n",
    "* zastąpienie brakujących danych wartością maksymaną, minimalną lub średnią z danych występujących w kolumnie.\n",
    "\n",
    "Biorąc pod uwagę, że w zmiennej **Age** występuje wiele brakujących wartości usunięcie ich może spowodować utrudnienie w anlizie danych. W związku z tym zostały one zastąpione wartością średnią ze wszystkich wystąpień. Brakujące wartości w zmiennej **Embarked** są jedynie w dwóch wystąpieniach, więc zostaną one usunięte ze zbioru."
   ]
  },
  {
   "cell_type": "code",
   "execution_count": 8,
   "metadata": {},
   "outputs": [
    {
     "name": "stdout",
     "output_type": "stream",
     "text": [
      "<class 'pandas.core.frame.DataFrame'>\n",
      "Int64Index: 889 entries, 0 to 890\n",
      "Data columns (total 9 columns):\n",
      " #   Column       Non-Null Count  Dtype  \n",
      "---  ------       --------------  -----  \n",
      " 0   PassengerId  889 non-null    int64  \n",
      " 1   Survived     889 non-null    int64  \n",
      " 2   Pclass       889 non-null    int64  \n",
      " 3   Sex          889 non-null    object \n",
      " 4   Age          889 non-null    float64\n",
      " 5   SibSp        889 non-null    int64  \n",
      " 6   Parch        889 non-null    int64  \n",
      " 7   Fare         889 non-null    float64\n",
      " 8   Embarked     889 non-null    object \n",
      "dtypes: float64(2), int64(5), object(2)\n",
      "memory usage: 69.5+ KB\n"
     ]
    }
   ],
   "source": [
    "dataset['Age'] = dataset['Age'].fillna(dataset['Age'].mean())\n",
    "dataset = dataset[dataset['Embarked'].notna()]\n",
    "dataset.info()"
   ]
  },
  {
   "cell_type": "markdown",
   "metadata": {},
   "source": [
    "### Ustandaryzowanie typów danych\n",
    "\n",
    "W celu ułatwienia analizy dane, które znajdują się w zbiorze powinny mieć odpowiedni typ. Taki, który faktycznie odzwierciedla ich faktyczny stan. W pierwszym kroku zdecydowałem aby kolumna **Embarked** była zdefiniowana przez typ ,,category'', który określa kolumny zawierające skończoną listę wartości tekstowych (typ ,,object'' definiuje kolumny zawierające tekst). Wykorzystałem do tego następujące operacje"
   ]
  },
  {
   "cell_type": "code",
   "execution_count": 9,
   "metadata": {},
   "outputs": [
    {
     "name": "stdout",
     "output_type": "stream",
     "text": [
      "<class 'pandas.core.frame.DataFrame'>\n",
      "Int64Index: 889 entries, 0 to 890\n",
      "Data columns (total 9 columns):\n",
      " #   Column       Non-Null Count  Dtype   \n",
      "---  ------       --------------  -----   \n",
      " 0   PassengerId  889 non-null    int64   \n",
      " 1   Survived     889 non-null    int64   \n",
      " 2   Pclass       889 non-null    int64   \n",
      " 3   Sex          889 non-null    object  \n",
      " 4   Age          889 non-null    float64 \n",
      " 5   SibSp        889 non-null    int64   \n",
      " 6   Parch        889 non-null    int64   \n",
      " 7   Fare         889 non-null    float64 \n",
      " 8   Embarked     889 non-null    category\n",
      "dtypes: category(1), float64(2), int64(5), object(1)\n",
      "memory usage: 63.5+ KB\n"
     ]
    }
   ],
   "source": [
    "dataset[\"Embarked\"] = dataset[\"Embarked\"].astype(\"category\")\n",
    "dataset.info()"
   ]
  },
  {
   "cell_type": "markdown",
   "metadata": {},
   "source": [
    "Kolejną rzeczą jest fakt, że zmienna **Age** reprezentowana jest przez typ ,,float64''. Oznacza to, że występują w niej liczby zmiennoprzecinkowe. Znając definicję zmiennej (zawiera ona dane reprezenujące wiek) możemy zmienić rozwiązanie prezentacji danych na liczby całkowite. Podobne rozwiązanie możemy zastosować w zmiennej **Fare**."
   ]
  },
  {
   "cell_type": "code",
   "execution_count": 10,
   "metadata": {
    "scrolled": false
   },
   "outputs": [
    {
     "name": "stdout",
     "output_type": "stream",
     "text": [
      "<class 'pandas.core.frame.DataFrame'>\n",
      "Int64Index: 889 entries, 0 to 890\n",
      "Data columns (total 9 columns):\n",
      " #   Column       Non-Null Count  Dtype   \n",
      "---  ------       --------------  -----   \n",
      " 0   PassengerId  889 non-null    int64   \n",
      " 1   Survived     889 non-null    int64   \n",
      " 2   Pclass       889 non-null    int64   \n",
      " 3   Sex          889 non-null    object  \n",
      " 4   Age          889 non-null    int64   \n",
      " 5   SibSp        889 non-null    int64   \n",
      " 6   Parch        889 non-null    int64   \n",
      " 7   Fare         889 non-null    int64   \n",
      " 8   Embarked     889 non-null    category\n",
      "dtypes: category(1), int64(7), object(1)\n",
      "memory usage: 63.5+ KB\n"
     ]
    }
   ],
   "source": [
    "dataset['Age'] = dataset['Age'].apply(math.ceil)\n",
    "dataset['Fare'] = dataset['Fare'].apply(math.ceil)\n",
    "dataset.info()"
   ]
  },
  {
   "cell_type": "markdown",
   "metadata": {},
   "source": [
    "Na tym etapie przygotowanie danych zostało zakończone. Poniżej zamieszczona została tabela, która pozwala sprawdzić wartości, które występują w zbiorze danych."
   ]
  },
  {
   "cell_type": "markdown",
   "metadata": {},
   "source": [
    "## Analiza \n",
    "\n",
    "Na początku należy określić, które dane będą przydatne podczas określania czynników przeżycia. Będą to: **wiek**, **klasa**, , którą podróżował pasażer oraz **płeć**. Pozostałe dane nie mają w tym przypadku większego znaczenia.\n",
    "\n",
    "W pierwszym kroku analizy należy określić wskaźnik przeżycia pasażerów katastrofy. Został on przedstawiony poniżej"
   ]
  },
  {
   "cell_type": "code",
   "execution_count": 11,
   "metadata": {},
   "outputs": [
    {
     "data": {
      "image/png": "[encoded data removed]",
      "text/plain": [
       "<Figure size 1080x576 with 1 Axes>"
      ]
     },
     "metadata": {
      "needs_background": "light"
     },
     "output_type": "display_data"
    }
   ],
   "source": [
    "plt.figure(figsize=(15, 8))\n",
    "sns.countplot(x='Survived', data = dataset, palette='Set1')\n",
    "plt.title('Wskaźnik przeżycia')\n",
    "plt.show()"
   ]
  },
  {
   "cell_type": "markdown",
   "metadata": {},
   "source": [
    "Na osi X znajduje się zmienna **Survived**, która informuje czy pasażer przeżył katastrofę czy też nie (0 jeśli nie przeżył, 1 jeśli przeżył). Na osi Y jest przybliżona liczba pasażerów. Z wykresu można odczytać, że większość pasażerów niestety nie przeżyła katastrofy. Istnieją również ludzie, którym udało się uniknąć śmierci. W kolejnych etapach analizy sprawdzę czynniki, które mogły mieć wpływ na taki rozkład.\n",
    "\n",
    "### Wiek\n",
    "\n",
    "Biorąc pod uwagę dane statystyczne wiek osoby, która przeżyła wypadek ma duże znaczenie. Osoby młode, ze względu na naturalne warunki i silny organizm częściej przeżywają zdarzenia losowe. Często również, podobnie jak kobiety, są ratowani w pierwszej kolejności. Dlatego wiek może mieć również być czynnikiem wpływającym na wskaźnik przeżycia. Poniżej zostały przedstawione dwa histogramy: pierwszy pokazuje wiek ludzi, którzy przeżyli, drugi przedstawia wiek ludzi, których nie udało się uratować."
   ]
  },
  {
   "cell_type": "code",
   "execution_count": 12,
   "metadata": {},
   "outputs": [
    {
     "data": {
      "image/png": "[encoded data removed]",
      "text/plain": [
       "<Figure size 1080x576 with 1 Axes>"
      ]
     },
     "metadata": {
      "needs_background": "light"
     },
     "output_type": "display_data"
    }
   ],
   "source": [
    "plt.figure(figsize=(15, 8))\n",
    "sns.kdeplot(dataset[\"Age\"][dataset.Survived == 1], color = \"darkturquoise\",\n",
    "           shade=True)\n",
    "sns.kdeplot(dataset[\"Age\"][dataset.Survived == 0], color = \"lightcoral\",\n",
    "           shade=True)\n",
    "plt.legend(['Survived', 'Died'])\n",
    "plt.title(\"Wskaźnik przeżycia pasażerów ze względu na wiek\")\n",
    "plt.show()\n"
   ]
  },
  {
   "cell_type": "markdown",
   "metadata": {},
   "source": [
    "Na podstawie powyższego wykresu wynika, że współczynnik przeżycia jest wysoki wśród pasażerów do 10 roku życia. Wynika to prawdopodobnie z tego, że w pierwszej kolejności są oni ratowai. Widać również, że zginęła duża liczba osób w wieku od 20 do 40 lat. Osoby te, oprócz ratowania samych siebie musiały również pomóc innym.\n",
    "\n",
    "### Klasa, którą podróżował pasażer\n",
    "\n",
    "Drugim czynnikiem, który może mieć wpływ na to czy pasażer przeżył czy nie jest klasa, którą podróżował"
   ]
  },
  {
   "cell_type": "code",
   "execution_count": 13,
   "metadata": {},
   "outputs": [
    {
     "data": {
      "image/png": "[encoded data removed]",
      "text/plain": [
       "<Figure size 1080x576 with 1 Axes>"
      ]
     },
     "metadata": {
      "needs_background": "light"
     },
     "output_type": "display_data"
    }
   ],
   "source": [
    "plt.figure(figsize=(15, 8))\n",
    "sns.barplot(x='Pclass', y='Survived', data=dataset, palette='Set2')\n",
    "plt.show()\n"
   ]
  },
  {
   "cell_type": "markdown",
   "metadata": {},
   "source": [
    "Na osi X nałożono klasę biletu przyjmującą wartość od 1 do 3 gdzie:\n",
    "\n",
    "* 1 - klasa najwyższa,\n",
    "* 2 - klasa średnia,\n",
    "* 3 - klasa najniższa.\n",
    "\n",
    "Można zauważyć, że liczba osób, która zginęła, posiadała bilet klasy 3. Klasa pierwsza natomiast miała najmniejszą liczbę zgonów. Wniosek jaki się nasuwa jest taki, że klasa biletu zakupionego przez pasażera miała znaczenie w szansach przeżycia.\n",
    "\n",
    "### Płeć\n",
    "\n",
    "Biorąc pod uwagę dane statystyczne innych zdarzeń najczęstszymi sprawcami wypadków są mężczyźni niż kobiety. Przekłada się to również na wskaźniki ofiar w wypadkach - kobiety częściej przeżywają wypadki np. drogowe. W związku z tym w raporcie został wykorzystany ten czynnik. Jego wykres został przedstawiony poniżej"
   ]
  },
  {
   "cell_type": "code",
   "execution_count": 14,
   "metadata": {},
   "outputs": [
    {
     "data": {
      "text/plain": [
       "<Figure size 1080x576 with 0 Axes>"
      ]
     },
     "metadata": {},
     "output_type": "display_data"
    },
    {
     "data": {
      "image/png": "[encoded data removed]",
      "text/plain": [
       "<Figure size 216x360 with 1 Axes>"
      ]
     },
     "metadata": {
      "needs_background": "light"
     },
     "output_type": "display_data"
    }
   ],
   "source": [
    "plt.figure(figsize=(15, 8))\n",
    "sns.catplot(x = \"Sex\", y=\"Survived\", data=dataset,\n",
    "                  saturation=.5, kind=\"bar\", ci=None, aspect=.6, palette=\"Set2\")\n",
    "plt.title(\"Wskaźnik przeżycia ze względu na płeć\")\n",
    "plt.show()"
   ]
  },
  {
   "cell_type": "markdown",
   "metadata": {},
   "source": [
    "Na osi X znajduje się płeć. Kolorem zielonym oznaczono mężczyzn natomiast różowym kobiety. \n",
    "\n",
    "Od razu widać, że ilość kobiet, które przeżyły znacznie przewyższa ilość mężczyzn. Wniosek jaki się nasuwa jest taki, że w pierwszej kolejności, podczas wypadków i katastrof, ratowane są kobiety. Można uznać, że był to jeden z czynników, które miały wpływ na to czy danej osobie udało się przeżyć."
   ]
  },
  {
   "cell_type": "markdown",
   "metadata": {},
   "source": [
    "## Podsumowanie\n",
    "\n",
    "Po zapoznaniu się ze zbiorem danych oraz przygotowaniu go do analizy można wyciągnąć wniosek, że czynniki, które zostały przedstawione przez autora (płeć, wiek oraz klasa biletu) miały wpływ na to czy pasażer przeżył katastrofę bądź nie. Wynikiem tej analizy są następujące:\n",
    "\n",
    "* Najwięcej pasażerów, którzy przeżyli katastrofę były kobiety oraz dzieci,\n",
    "* Największa śmiertelność była wśród mężczyzn oraz u osób w wieku 20-40 lat,\n",
    "* Klasa biletu pasażera miała znaczenie podczas ucieczki z tonącego statku - najmniejsza śmiertelność wśród osób posiadających bilet klasy 1, odwrotnie proporcjonalna dla osób posiadających bilet klasy 3."
   ]
  }
 ],
 "metadata": {
  "kernelspec": {
   "display_name": "Python 3",
   "language": "python",
   "name": "python3"
  },
  "language_info": {
   "codemirror_mode": {
    "name": "ipython",
    "version": 3
   },
   "file_extension": ".py",
   "mimetype": "text/x-python",
   "name": "python",
   "nbconvert_exporter": "python",
   "pygments_lexer": "ipython3",
   "version": "3.8.5"
  }
 },
 "nbformat": 4,
 "nbformat_minor": 4
}
